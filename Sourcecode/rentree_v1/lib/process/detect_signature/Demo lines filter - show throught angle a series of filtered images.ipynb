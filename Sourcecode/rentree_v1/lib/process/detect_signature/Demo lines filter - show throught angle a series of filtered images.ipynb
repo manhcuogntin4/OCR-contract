{
 "cells": [
  {
   "cell_type": "code",
   "execution_count": 1,
   "metadata": {
    "collapsed": true
   },
   "outputs": [],
   "source": [
    "import cv2\n",
    "import numpy as np\n",
    "import matplotlib.pyplot as plt\n",
    "import sklearn\n",
    "import sys\n",
    "import math\n",
    "from math import cos,atan,floor \n",
    "import numpy as np\n",
    "import os\n",
    "from sklearn import mixture\n",
    "from sklearn.cluster import KMeans\n",
    "import numpy as np\n",
    "from sklearn.metrics import silhouette_score"
   ]
  },
  {
   "cell_type": "code",
   "execution_count": 2,
   "metadata": {
    "collapsed": true
   },
   "outputs": [],
   "source": [
    "def height_and_width(img):\n",
    "    \n",
    "    height = len(img)\n",
    "    width = len(img[0])\n",
    "    \n",
    "    return height,width\n",
    "\n",
    "def dimention_mesure_of(height,width):\n",
    "    \n",
    "    dimention_mesure=min(height,width)\n",
    "    \n",
    "    return dimention_mesure\n",
    "\n",
    "def show_image_in_shape(width,height,img):\n",
    "    cv2.namedWindow('',cv2.WINDOW_NORMAL)\n",
    "    cv2.imshow('', img)\n",
    "    cv2.waitKey(0)\n",
    "    cv2.destroyAllWindows()\n",
    "    \n",
    "def angle_weight(angle):\n",
    "    return math.fabs( cos( 2 * ( angle * (( math.pi * 2)/360) ) +(math.pi/2)  ) )\n"
   ]
  },
  {
   "cell_type": "code",
   "execution_count": 3,
   "metadata": {
    "collapsed": true
   },
   "outputs": [],
   "source": [
    "# Prepared kernels \n",
    "\n",
    "# empty 5 diamon :\n",
    "#kernel = np.array([[0,0,1,0,0],[0,1,0,1,0],[1,0,0,0,1],[0,1,0,1,0],[0,0,1,0,0]],np.uint8) \n",
    "# vertical 5 line :\n",
    "#kernel = np.array([[0,0,1,0,0],[0,0,1,0,0],[0,0,1,0,0],[0,0,1,0,0],[0,0,1,0,0]],np.uint8)\n",
    "# horizontal 5 line :\n",
    "#kernel = np.array([[0,0,1,0,0],[0,0,1,0,0],[0,0,1,0,0],[0,0,1,0,0],[0,0,1,0,0]],np.uint8).transpose() \n",
    "# vertical 3 line :\n",
    "#kernel = np.array([[0,1,0],[0,1,0],[0,1,0]],np.uint8)\n",
    "# diag 3Pi/4 5 line :\n",
    "#kernel = np.array([[1,0,0,0,0],[0,1,0,0,0],[0,0,1,0,0],[0,0,0,1,0],[0,0,0,0,1]],np.uint8) \n",
    "# diag Pi/4 5 line :\n",
    "#kernel = np.array([[0,0,0,0,1],[0,0,0,1,0],[0,0,1,0,0],[0,1,0,0,0],[1,0,0,0,0]],np.uint8)"
   ]
  },
  {
   "cell_type": "code",
   "execution_count": 4,
   "metadata": {
    "collapsed": true
   },
   "outputs": [],
   "source": [
    "\n",
    "def kernel_of_angle(L,angle):\n",
    "    M = np.zeros((L, L),np.uint8)\n",
    "    for s in range(0,5*L):\n",
    "        i = math.ceil(s*math.cos((angle * math.pi * 2)/360))\n",
    "        j = math.ceil(s*math.sin((angle * math.pi * 2)/360))\n",
    "        if (1-(L/2))<i and i<(L/2) and (1-(L/2))< j and j < (L/2) :\n",
    "            M[ int(j+L/2),int(i+L/2) ]=1\n",
    "            M[ int(-j+L/2), int(-i+L/2) ]=1\n",
    "    return M\n",
    "\n",
    "def kernel_of_radius(L):\n",
    "    M = np.zeros((L, L),np.uint8)\n",
    "    for s in range(0,2*360):\n",
    "        i = math.ceil((-1+(L/2))*math.cos((s*math.pi/360)))\n",
    "        j = math.ceil((-1+(L/2))*math.sin((s*math.pi/360)))\n",
    "        if (1-(L/2))<i and i<(L/2) and (1-(L/2))< j and j < (L/2) :\n",
    "            for k in range(0,L):\n",
    "                M[ int(((k/L)*j+(L/2))),int(((k/L)*i+(L/2))) ]=1\n",
    "    return M\n"
   ]
  },
  {
   "cell_type": "code",
   "execution_count": 5,
   "metadata": {
    "collapsed": true
   },
   "outputs": [],
   "source": [
    "def filtered_image(img,dimention_mesure,L,angle):\n",
    "\n",
    "    img =  cv2.bitwise_not(img)\n",
    "    img = cv2.GaussianBlur(img, (1, 1), 1)\n",
    "    \n",
    "    kernel = kernel_of_angle(L,angle)\n",
    "    img = cv2.morphologyEx(img, cv2.MORPH_OPEN, kernel,iterations=1)\n",
    "    \n",
    "    labelnum, labelimg, contours, GoCs= cv2.connectedComponentsWithStats(img,cv2.CC_STAT_AREA  )\n",
    "    \n",
    "    surfaces_of_components=[]\n",
    "    firstmaxs=[]\n",
    "    secondmaxs=[]\n",
    "    \n",
    "    for label in range(1,labelnum):\n",
    "        x,y = GoCs[label]\n",
    "        img = cv2.circle(img, (int(x),int(y)), 1, (0,0,255), -1)\n",
    "        x,y,w,h,size = contours[label]\n",
    "        img = cv2.rectangle(img, (x,y), (x+w,y+h), (255,255,0), 1)\n",
    "        surfaces_of_components.append(min(w,h))\n",
    "    if surfaces_of_components:\n",
    "        firstmax = max(surfaces_of_components)*1.0/dimention_mesure\n",
    "        firstmaxs.append(firstmax)\n",
    "        surfaces_of_components.remove(np.array(max(surfaces_of_components)))\n",
    "        if surfaces_of_components:\n",
    "            secondmax = max(surfaces_of_components)/dimention_mesure\n",
    "        else:\n",
    "            secondmax = 0\n",
    "            secondmaxs.append(secondmax)\n",
    "    else:\n",
    "        firstmax = 0\n",
    "        secondmax = 0\n",
    "        \n",
    "    #show_image_in_shape(600,600,img)\n",
    "    \n",
    "    return firstmax,secondmax\n"
   ]
  },
  {
   "cell_type": "code",
   "execution_count": 6,
   "metadata": {
    "collapsed": false
   },
   "outputs": [
    {
     "name": "stdout",
     "output_type": "stream",
     "text": [
      "[[0 0 0 0 0 0 0 0 0 0 0 0 0 0 0 0 0 0 0 0 0 0 0 0 0 0 0 0 0 0]\n",
      " [0 0 0 0 0 0 0 0 0 0 0 0 0 0 0 0 0 0 0 0 0 0 0 0 0 0 0 0 0 0]\n",
      " [0 0 0 0 0 0 0 0 0 0 0 0 0 0 0 0 0 0 0 0 0 0 0 0 0 0 0 0 0 0]\n",
      " [0 0 0 0 0 0 0 0 0 0 0 0 0 0 0 0 0 0 0 0 0 0 0 0 0 0 0 0 0 0]\n",
      " [0 0 0 0 0 0 0 0 0 0 0 0 0 0 0 0 0 0 0 0 0 0 0 0 0 0 0 0 0 0]\n",
      " [0 0 0 0 0 0 0 0 0 0 0 0 0 0 0 0 0 0 0 0 0 0 0 0 0 0 0 0 0 0]\n",
      " [0 0 0 0 0 0 0 0 0 0 0 0 0 0 0 0 0 0 0 0 0 0 0 0 0 0 0 0 0 0]\n",
      " [0 0 0 0 0 0 0 0 0 0 0 0 0 0 0 0 0 0 0 0 0 0 0 0 0 0 0 1 1 0]\n",
      " [0 0 0 0 0 0 0 0 0 0 0 0 0 0 0 0 0 0 0 0 0 0 0 0 0 0 1 1 0 0]\n",
      " [0 0 0 0 0 0 0 0 0 0 0 0 0 0 0 0 0 0 0 0 0 0 0 0 1 1 0 0 0 0]\n",
      " [0 0 0 0 0 0 0 0 0 0 0 0 0 0 0 0 0 0 0 0 0 0 1 1 0 0 0 0 0 0]\n",
      " [0 0 0 0 0 0 0 0 0 0 0 0 0 0 0 0 0 0 0 0 0 1 0 0 0 0 0 0 0 0]\n",
      " [0 0 0 0 0 0 0 0 0 0 0 0 0 0 0 0 0 0 0 1 1 0 0 0 0 0 0 0 0 0]\n",
      " [0 0 0 0 0 0 0 0 0 0 0 0 0 0 0 0 0 1 1 0 0 0 0 0 0 0 0 0 0 0]\n",
      " [0 0 0 0 0 0 0 0 0 0 0 0 0 0 0 1 1 0 0 0 0 0 0 0 0 0 0 0 0 0]\n",
      " [0 0 0 0 0 0 0 0 0 0 0 0 0 0 0 1 0 0 0 0 0 0 0 0 0 0 0 0 0 0]\n",
      " [0 0 0 0 0 0 0 0 0 0 0 0 0 0 1 1 0 0 0 0 0 0 0 0 0 0 0 0 0 0]\n",
      " [0 0 0 0 0 0 0 0 0 0 0 0 1 1 0 0 0 0 0 0 0 0 0 0 0 0 0 0 0 0]\n",
      " [0 0 0 0 0 0 0 0 0 0 1 1 0 0 0 0 0 0 0 0 0 0 0 0 0 0 0 0 0 0]\n",
      " [0 0 0 0 0 0 0 0 0 1 0 0 0 0 0 0 0 0 0 0 0 0 0 0 0 0 0 0 0 0]\n",
      " [0 0 0 0 0 0 0 1 1 0 0 0 0 0 0 0 0 0 0 0 0 0 0 0 0 0 0 0 0 0]\n",
      " [0 0 0 0 0 1 1 0 0 0 0 0 0 0 0 0 0 0 0 0 0 0 0 0 0 0 0 0 0 0]\n",
      " [0 0 0 1 1 0 0 0 0 0 0 0 0 0 0 0 0 0 0 0 0 0 0 0 0 0 0 0 0 0]\n",
      " [0 0 1 1 0 0 0 0 0 0 0 0 0 0 0 0 0 0 0 0 0 0 0 0 0 0 0 0 0 0]\n",
      " [0 0 0 0 0 0 0 0 0 0 0 0 0 0 0 0 0 0 0 0 0 0 0 0 0 0 0 0 0 0]\n",
      " [0 0 0 0 0 0 0 0 0 0 0 0 0 0 0 0 0 0 0 0 0 0 0 0 0 0 0 0 0 0]\n",
      " [0 0 0 0 0 0 0 0 0 0 0 0 0 0 0 0 0 0 0 0 0 0 0 0 0 0 0 0 0 0]\n",
      " [0 0 0 0 0 0 0 0 0 0 0 0 0 0 0 0 0 0 0 0 0 0 0 0 0 0 0 0 0 0]\n",
      " [0 0 0 0 0 0 0 0 0 0 0 0 0 0 0 0 0 0 0 0 0 0 0 0 0 0 0 0 0 0]\n",
      " [0 0 0 0 0 0 0 0 0 0 0 0 0 0 0 0 0 0 0 0 0 0 0 0 0 0 0 0 0 0]]\n"
     ]
    }
   ],
   "source": [
    "# test kernels\n",
    "print(kernel_of_angle(30,150))"
   ]
  },
  {
   "cell_type": "code",
   "execution_count": 7,
   "metadata": {
    "collapsed": false
   },
   "outputs": [
    {
     "name": "stdout",
     "output_type": "stream",
     "text": [
      "('signature in : ', 'cut1.PNG', ' with score : ', 0.35340314136125656)\n",
      "()\n",
      "('signature in : ', 'cut10.PNG', ' with score : ', 0.076923076923076927)\n",
      "()\n",
      "('signature in : ', 'cut11.PNG', ' with score : ', 0.22781774580335731)\n",
      "()\n",
      "('signature in : ', 'cut12.PNG', ' with score : ', 0.15358361774744028)\n",
      "()\n",
      "('signature in : ', 'cut14.PNG', ' with score : ', 0.095744680851063829)\n",
      "()\n",
      "('signature in : ', 'cut15.PNG', ' with score : ', 0.1484848484848485)\n",
      "()\n",
      "('signature in : ', 'cut16.PNG', ' with score : ', 0.13625866050808313)\n",
      "()\n",
      "('signature in : ', 'cut18.PNG', ' with score : ', 0.25793650793650796)\n",
      "()\n",
      "('signature in : ', 'cut19.PNG', ' with score : ', 0.12572533849129594)\n",
      "()\n",
      "('signature in : ', 'cut2.PNG', ' with score : ', 0.15916955017301038)\n",
      "()\n",
      "('Min score is : ', 0.076923076923076927)\n"
     ]
    }
   ],
   "source": [
    "rootdir = '/media/cuong-nguyen/B0EA64A4EA646894/backup_ubuntu/2018/Projet/rentre_signee/Sourcecode/rentree_signee_v1.0/py-faster-rcnn/lib/process/detect_signature/Signature/signature_square/signature_yes'\n",
    "k=0\n",
    "nombre_limit = 10\n",
    "min_score = 1000\n",
    "max_score = 0\n",
    "for subdir, dirs, files in os.walk(rootdir):\n",
    "    for file in files:\n",
    "        if k < nombre_limit :\n",
    "\n",
    "            #file = 'cut10.PNG'\n",
    "            img = cv2.imread(os.path.join(subdir, file),0)\n",
    "            cv2.imshow('', img)\n",
    "            cv2.waitKey(0)\n",
    "            cv2.destroyAllWindows()\n",
    "\n",
    "            height,width = height_and_width(img)\n",
    "            dimention_mesure = dimention_mesure_of(height,width)\n",
    "            L = 30\n",
    "            #angle = 80\n",
    "\n",
    "            signature_present = False\n",
    "            maxfirstmax = 0\n",
    "            for angle in range(0,180,5):\n",
    "                firstmax,secondmax = filtered_image(img,dimention_mesure,L,angle)\n",
    "                oblique_firstmax =  (angle_weight(angle)**(1/2)) * firstmax#(angle_weight(angle)**(0)) \n",
    "                if oblique_firstmax > 0.07 :\n",
    "                    signature_present = True\n",
    "                    ecart = oblique_firstmax - 0.04\n",
    "                    #print(ecart)\n",
    "                    #break;\n",
    "                if oblique_firstmax > maxfirstmax :\n",
    "                    maxfirstmax = oblique_firstmax\n",
    "           \n",
    "            if signature_present:\n",
    "                print('signature in : ',file , ' with score : ' , maxfirstmax)\n",
    "                print()\n",
    "            else :\n",
    "                print('No signature in : ',file , ' with score : ' , maxfirstmax)\n",
    "                print()\n",
    "            if maxfirstmax < min_score :\n",
    "                min_score  = maxfirstmax\n",
    "            if maxfirstmax > max_score:\n",
    "                max_score  = maxfirstmax\n",
    "            k=k+1\n",
    "\n",
    "#print('Max score is : ' , max_score)\n",
    "print('Min score is : ' , min_score)"
   ]
  },
  {
   "cell_type": "code",
   "execution_count": 8,
   "metadata": {
    "collapsed": false
   },
   "outputs": [
    {
     "name": "stdout",
     "output_type": "stream",
     "text": [
      "('Max score is : ', -1)\n"
     ]
    }
   ],
   "source": [
    "\n",
    "rootdir = 'D:\\Travaille\\Data\\signature_square\\signature_no'\n",
    "\n",
    "k=0\n",
    "nombre_limit = 1\n",
    "min_score = 1000\n",
    "max_score = -1\n",
    "for subdir, dirs, files in os.walk(rootdir):\n",
    "    for file in files:\n",
    "        if k < nombre_limit :\n",
    "            #print(k)\n",
    "            img = cv2.imread(os.path.join(subdir, file),0)\n",
    "            height,width = height_and_width(img)\n",
    "            dimention_mesure = dimention_mesure_of(height,width)\n",
    "            L = 30\n",
    "            #angle = 80\n",
    "            \n",
    "            signature_present = False\n",
    "            maxfirstmax = 0\n",
    "            for angle in range(0,180,5):\n",
    "                firstmax,secondmax = filtered_image(img,dimention_mesure,L,angle)\n",
    "                oblique_firstmax = (angle_weight(angle)**(1/2)) * firstmax #(angle_weight(angle)**(1/2)) *\n",
    "                if oblique_firstmax > 0.07 :\n",
    "                    signature_present = True\n",
    "                    ecart = oblique_firstmax - 0.04\n",
    "                    #print(ecart)\n",
    "                    #break;\n",
    "                \n",
    "                if oblique_firstmax > maxfirstmax :\n",
    "                    maxfirstmax = oblique_firstmax\n",
    "            if signature_present:\n",
    "                print('signature in : ',file , ' with score : ' , maxfirstmax)\n",
    "                print()\n",
    "            else :\n",
    "                print('No signature in : ',file , ' with score : ' , maxfirstmax)\n",
    "                print()\n",
    "            if maxfirstmax < min_score :\n",
    "                min_score  = maxfirstmax\n",
    "            if maxfirstmax > max_score:\n",
    "                max_score  = maxfirstmax\n",
    "            k=k+1\n",
    "\n",
    "print('Max score is : ' , max_score)\n",
    "#print('Min score is : ' , min_score)"
   ]
  },
  {
   "cell_type": "code",
   "execution_count": null,
   "metadata": {
    "collapsed": true
   },
   "outputs": [],
   "source": []
  },
  {
   "cell_type": "code",
   "execution_count": null,
   "metadata": {
    "collapsed": true
   },
   "outputs": [],
   "source": []
  },
  {
   "cell_type": "code",
   "execution_count": null,
   "metadata": {
    "collapsed": true
   },
   "outputs": [],
   "source": []
  },
  {
   "cell_type": "code",
   "execution_count": null,
   "metadata": {
    "collapsed": true
   },
   "outputs": [],
   "source": []
  }
 ],
 "metadata": {
  "anaconda-cloud": {},
  "kernelspec": {
   "display_name": "Python [default]",
   "language": "python",
   "name": "python2"
  },
  "language_info": {
   "codemirror_mode": {
    "name": "ipython",
    "version": 2
   },
   "file_extension": ".py",
   "mimetype": "text/x-python",
   "name": "python",
   "nbconvert_exporter": "python",
   "pygments_lexer": "ipython2",
   "version": "2.7.12"
  }
 },
 "nbformat": 4,
 "nbformat_minor": 2
}
